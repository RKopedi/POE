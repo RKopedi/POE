{
 "cells": [
  {
   "cell_type": "code",
   "execution_count": 52,
   "id": "e2d871c7-57ff-42cb-a791-859d1a3d4e08",
   "metadata": {},
   "outputs": [],
   "source": [
    "import pandas as pd\n",
    "import numpy as np\n",
    "import matplotlib.pyplot as plt\n",
    "import seaborn as sns\n",
    "import string\n",
    "import nltk\n",
    "\n",
    "from sklearn.model_selection import train_test_split\n",
    "from sklearn.linear_model import LogisticRegression\n",
    "from sklearn.metrics import confusion_matrix\n",
    "from sklearn.metrics import classification_report\n",
    "from sklearn.metrics import accuracy_score,classification_report,confusion_matrix,recall_score,f1_score,precision_score\n",
    "\n",
    "from sklearn.feature_extraction.text import CountVectorizer\n",
    "from nltk.corpus import stopwords\n",
    "from nltk.stem import WordNetLemmatizer\n",
    "\n",
    "from imblearn.pipeline import Pipeline\n",
    "from imblearn.over_sampling import SMOTE"
   ]
  },
  {
   "cell_type": "code",
   "execution_count": 2,
   "id": "a3b80e87-d768-4cfa-ad23-6014363b8ea5",
   "metadata": {},
   "outputs": [],
   "source": [
    "#Importing the dataset\n",
    "\n",
    "df = pd.read_csv('tripadvisor_hotel_reviews.csv')"
   ]
  },
  {
   "cell_type": "markdown",
   "id": "597fa415-5eb2-469f-a4e4-4b26ed0f24c4",
   "metadata": {},
   "source": [
    "## Dataset Checks/Exploration (EDA)"
   ]
  },
  {
   "cell_type": "code",
   "execution_count": 3,
   "id": "c3285388-689a-4a2d-b469-a89ba7b7da29",
   "metadata": {},
   "outputs": [
    {
     "name": "stdout",
     "output_type": "stream",
     "text": [
      "<class 'pandas.core.frame.DataFrame'>\n",
      "RangeIndex: 20491 entries, 0 to 20490\n",
      "Data columns (total 2 columns):\n",
      " #   Column  Non-Null Count  Dtype \n",
      "---  ------  --------------  ----- \n",
      " 0   Review  20491 non-null  object\n",
      " 1   Rating  20491 non-null  int64 \n",
      "dtypes: int64(1), object(1)\n",
      "memory usage: 320.3+ KB\n"
     ]
    }
   ],
   "source": [
    "df.info()\n",
    "\n",
    "#Using this function allows me to evaluate the dataset to the extent of knowing the data types of each column, look for any null values in the dataset\n",
    "#and gather the amount of rows in the dataset"
   ]
  },
  {
   "cell_type": "code",
   "execution_count": 5,
   "id": "d7325f80-e35a-4753-a30f-419e5035aeb9",
   "metadata": {},
   "outputs": [
    {
     "data": {
      "text/html": [
       "<div>\n",
       "<style scoped>\n",
       "    .dataframe tbody tr th:only-of-type {\n",
       "        vertical-align: middle;\n",
       "    }\n",
       "\n",
       "    .dataframe tbody tr th {\n",
       "        vertical-align: top;\n",
       "    }\n",
       "\n",
       "    .dataframe thead th {\n",
       "        text-align: right;\n",
       "    }\n",
       "</style>\n",
       "<table border=\"1\" class=\"dataframe\">\n",
       "  <thead>\n",
       "    <tr style=\"text-align: right;\">\n",
       "      <th></th>\n",
       "      <th>Review</th>\n",
       "      <th>Rating</th>\n",
       "    </tr>\n",
       "  </thead>\n",
       "  <tbody>\n",
       "    <tr>\n",
       "      <th>0</th>\n",
       "      <td>nice hotel expensive parking got good deal sta...</td>\n",
       "      <td>4</td>\n",
       "    </tr>\n",
       "    <tr>\n",
       "      <th>1</th>\n",
       "      <td>ok nothing special charge diamond member hilto...</td>\n",
       "      <td>2</td>\n",
       "    </tr>\n",
       "    <tr>\n",
       "      <th>2</th>\n",
       "      <td>nice rooms not 4* experience hotel monaco seat...</td>\n",
       "      <td>3</td>\n",
       "    </tr>\n",
       "    <tr>\n",
       "      <th>3</th>\n",
       "      <td>unique, great stay, wonderful time hotel monac...</td>\n",
       "      <td>5</td>\n",
       "    </tr>\n",
       "    <tr>\n",
       "      <th>4</th>\n",
       "      <td>great stay great stay, went seahawk game aweso...</td>\n",
       "      <td>5</td>\n",
       "    </tr>\n",
       "  </tbody>\n",
       "</table>\n",
       "</div>"
      ],
      "text/plain": [
       "                                              Review  Rating\n",
       "0  nice hotel expensive parking got good deal sta...       4\n",
       "1  ok nothing special charge diamond member hilto...       2\n",
       "2  nice rooms not 4* experience hotel monaco seat...       3\n",
       "3  unique, great stay, wonderful time hotel monac...       5\n",
       "4  great stay great stay, went seahawk game aweso...       5"
      ]
     },
     "execution_count": 5,
     "metadata": {},
     "output_type": "execute_result"
    }
   ],
   "source": [
    "df.head()"
   ]
  },
  {
   "cell_type": "code",
   "execution_count": 7,
   "id": "11014a82-adf1-438c-92d2-67a2d41f8f4d",
   "metadata": {},
   "outputs": [],
   "source": [
    "reduced_df = df.sample(frac=0.1)\n",
    "\n",
    "#reducing the size of the dataset to save ram/computing power (efficiency), this function will randomly pick sample 10% from the original dataset"
   ]
  },
  {
   "cell_type": "code",
   "execution_count": 9,
   "id": "a7908bb9-2373-483d-bde2-4bc76c1d225f",
   "metadata": {},
   "outputs": [
    {
     "name": "stdout",
     "output_type": "stream",
     "text": [
      "0\n"
     ]
    }
   ],
   "source": [
    "print(reduced_df.duplicated().sum())\n",
    "\n",
    "#Checking for duplictions within the dataset, the function returns a boolean True and False. Ideally dupocations aren't desired as they might compromise the validity of a model."
   ]
  },
  {
   "cell_type": "code",
   "execution_count": 10,
   "id": "85478888-4d46-4b5f-b656-44343c6ce1e2",
   "metadata": {},
   "outputs": [],
   "source": [
    "reduced_df['Sentiment'] = df.Rating.apply(lambda x: 0 if x in [1,2]else 1)\n",
    "\n",
    "#Adding the sentiment column which will be denoted by 1's and 0's. this will help later on with our logistic regression for this sentimental analysis"
   ]
  },
  {
   "cell_type": "code",
   "execution_count": 11,
   "id": "aa08a0a9-ce1e-401b-a131-e268e7268772",
   "metadata": {},
   "outputs": [
    {
     "data": {
      "text/plain": [
       "Text(0.5, 1.0, 'Class Distribution')"
      ]
     },
     "execution_count": 11,
     "metadata": {},
     "output_type": "execute_result"
    },
    {
     "data": {
      "image/png": "[encoded data removed]",
      "text/plain": [
       "<Figure size 640x480 with 1 Axes>"
      ]
     },
     "metadata": {},
     "output_type": "display_data"
    }
   ],
   "source": [
    "reduced_df['Sentiment'].value_counts().plot.bar()\n",
    "plt.xlabel('Sentiment')\n",
    "plt.ylabel('Count')\n",
    "plt.title('Class Distribution')\n",
    "\n",
    "#Exploring the class distribution"
   ]
  },
  {
   "cell_type": "code",
   "execution_count": 12,
   "id": "9bc7e6a8-2c12-479a-ad2e-27685ca55e14",
   "metadata": {},
   "outputs": [],
   "source": [
    "X = reduced_df['Review']"
   ]
  },
  {
   "cell_type": "code",
   "execution_count": 13,
   "id": "3ac0ff91-8da1-4ffe-bddd-154308014e9e",
   "metadata": {},
   "outputs": [],
   "source": [
    "Y = reduced_df['Sentiment']"
   ]
  },
  {
   "cell_type": "code",
   "execution_count": 14,
   "id": "f8342e8e-99de-4a38-bbf7-331266253f16",
   "metadata": {},
   "outputs": [],
   "source": [
    "def remove_punctuation(text):\n",
    "    punctuationfree=\"\".join([i for i in text if i not in string.punctuation])\n",
    "    return punctuationfree"
   ]
  },
  {
   "cell_type": "code",
   "execution_count": 15,
   "id": "c03f30c6-2d12-41b0-8810-7f2e99110474",
   "metadata": {},
   "outputs": [
    {
     "data": {
      "text/plain": [
       "8171     no complaints located hotel wife pleased quali...\n",
       "16391    okay decor nice new desk staff uppity professi...\n",
       "2812     wished stayed longer best trip water great san...\n",
       "2336     loved new orleans number times having recently...\n",
       "3353     depends looking went pr labor day weekend cele...\n",
       "Name: Review, dtype: object"
      ]
     },
     "execution_count": 15,
     "metadata": {},
     "output_type": "execute_result"
    }
   ],
   "source": [
    "X_clean = X.apply(lambda x: remove_punctuation(x))\n",
    "X_clean.head()\n",
    "\n",
    "#Applying the function of removing the the puctuation and displaying the top results"
   ]
  },
  {
   "cell_type": "code",
   "execution_count": 16,
   "id": "8488f733-3534-4394-94c3-04b06076faf1",
   "metadata": {},
   "outputs": [
    {
     "data": {
      "text/plain": [
       "8171     no complaints located hotel wife pleased quali...\n",
       "16391    okay decor nice new desk staff uppity professi...\n",
       "2812     wished stayed longer best trip water great san...\n",
       "2336     loved new orleans number times having recently...\n",
       "3353     depends looking went pr labor day weekend cele...\n",
       "Name: Review, dtype: object"
      ]
     },
     "execution_count": 16,
     "metadata": {},
     "output_type": "execute_result"
    }
   ],
   "source": [
    "X_lower = X_clean.apply(lambda x : x.lower())\n",
    "X_lower.head()\n",
    "\n",
    "#Converting the stings to lower case and displaying the top results"
   ]
  },
  {
   "cell_type": "code",
   "execution_count": 17,
   "id": "9cbd4aed-616c-4f75-b9fc-1d0b28aa264b",
   "metadata": {},
   "outputs": [],
   "source": [
    "def tokenize(data):\n",
    "    for x  in data:\n",
    "        output = data.split()\n",
    "    return output    "
   ]
  },
  {
   "cell_type": "code",
   "execution_count": 18,
   "id": "bff74e0a-3132-448b-961c-4cb7d666b4ce",
   "metadata": {},
   "outputs": [
    {
     "data": {
      "text/plain": [
       "8171     [no, complaints, located, hotel, wife, pleased...\n",
       "16391    [okay, decor, nice, new, desk, staff, uppity, ...\n",
       "2812     [wished, stayed, longer, best, trip, water, gr...\n",
       "2336     [loved, new, orleans, number, times, having, r...\n",
       "3353     [depends, looking, went, pr, labor, day, weeke...\n",
       "                               ...                        \n",
       "7547     [awesome, resort, terrible, spa, took, entire,...\n",
       "16785    [garden, eden, resort, best, stayed, husband, ...\n",
       "17629    [absolutely, fantastic, hotel, just, returned,...\n",
       "5220     [perfect, paris, business, meeting, hotel, bad...\n",
       "7071     [loved, just, came, june, 21, best, secrets, p...\n",
       "Name: Review, Length: 2049, dtype: object"
      ]
     },
     "execution_count": 18,
     "metadata": {},
     "output_type": "execute_result"
    }
   ],
   "source": [
    "tokens = X_lower.apply(lambda x : tokenize(x))\n",
    "tokens"
   ]
  },
  {
   "cell_type": "code",
   "execution_count": 26,
   "id": "5ae4dea7-fa6b-4e9c-b3cd-d0756b703188",
   "metadata": {},
   "outputs": [
    {
     "name": "stderr",
     "output_type": "stream",
     "text": [
      "[nltk_data] Downloading package stopwords to\n",
      "[nltk_data]     C:\\Users\\Rapha\\AppData\\Roaming\\nltk_data...\n",
      "[nltk_data]   Package stopwords is already up-to-date!\n",
      "[nltk_data] Downloading package punkt to\n",
      "[nltk_data]     C:\\Users\\Rapha\\AppData\\Roaming\\nltk_data...\n",
      "[nltk_data]   Unzipping tokenizers\\punkt.zip.\n",
      "[nltk_data] Downloading package wordnet to\n",
      "[nltk_data]     C:\\Users\\Rapha\\AppData\\Roaming\\nltk_data...\n"
     ]
    },
    {
     "data": {
      "text/plain": [
       "True"
      ]
     },
     "execution_count": 26,
     "metadata": {},
     "output_type": "execute_result"
    }
   ],
   "source": [
    "nltk.download('stopwords')\n",
    "nltk.download('punkt')\n",
    "nltk.download('wordnet')"
   ]
  },
  {
   "cell_type": "code",
   "execution_count": 25,
   "id": "65ab617c-b64e-47e8-a27a-30263cc3f411",
   "metadata": {},
   "outputs": [
    {
     "data": {
      "text/plain": [
       "['i',\n",
       " 'me',\n",
       " 'my',\n",
       " 'myself',\n",
       " 'we',\n",
       " 'our',\n",
       " 'ours',\n",
       " 'ourselves',\n",
       " 'you',\n",
       " \"you're\",\n",
       " \"you've\",\n",
       " \"you'll\",\n",
       " \"you'd\",\n",
       " 'your',\n",
       " 'yours',\n",
       " 'yourself',\n",
       " 'yourselves',\n",
       " 'he',\n",
       " 'him',\n",
       " 'his',\n",
       " 'himself',\n",
       " 'she',\n",
       " \"she's\",\n",
       " 'her',\n",
       " 'hers',\n",
       " 'herself',\n",
       " 'it',\n",
       " \"it's\",\n",
       " 'its',\n",
       " 'itself',\n",
       " 'they',\n",
       " 'them',\n",
       " 'their',\n",
       " 'theirs',\n",
       " 'themselves',\n",
       " 'what',\n",
       " 'which',\n",
       " 'who',\n",
       " 'whom',\n",
       " 'this',\n",
       " 'that',\n",
       " \"that'll\",\n",
       " 'these',\n",
       " 'those',\n",
       " 'am',\n",
       " 'is',\n",
       " 'are',\n",
       " 'was',\n",
       " 'were',\n",
       " 'be',\n",
       " 'been',\n",
       " 'being',\n",
       " 'have',\n",
       " 'has',\n",
       " 'had',\n",
       " 'having',\n",
       " 'do',\n",
       " 'does',\n",
       " 'did',\n",
       " 'doing',\n",
       " 'a',\n",
       " 'an',\n",
       " 'the',\n",
       " 'and',\n",
       " 'but',\n",
       " 'if',\n",
       " 'or',\n",
       " 'because',\n",
       " 'as',\n",
       " 'until',\n",
       " 'while',\n",
       " 'of',\n",
       " 'at',\n",
       " 'by',\n",
       " 'for',\n",
       " 'with',\n",
       " 'about',\n",
       " 'against',\n",
       " 'between',\n",
       " 'into',\n",
       " 'through',\n",
       " 'during',\n",
       " 'before',\n",
       " 'after',\n",
       " 'above',\n",
       " 'below',\n",
       " 'to',\n",
       " 'from',\n",
       " 'up',\n",
       " 'down',\n",
       " 'in',\n",
       " 'out',\n",
       " 'on',\n",
       " 'off',\n",
       " 'over',\n",
       " 'under',\n",
       " 'again',\n",
       " 'further',\n",
       " 'then',\n",
       " 'once',\n",
       " 'here',\n",
       " 'there',\n",
       " 'when',\n",
       " 'where',\n",
       " 'why',\n",
       " 'how',\n",
       " 'all',\n",
       " 'any',\n",
       " 'both',\n",
       " 'each',\n",
       " 'few',\n",
       " 'more',\n",
       " 'most',\n",
       " 'other',\n",
       " 'some',\n",
       " 'such',\n",
       " 'no',\n",
       " 'nor',\n",
       " 'not',\n",
       " 'only',\n",
       " 'own',\n",
       " 'same',\n",
       " 'so',\n",
       " 'than',\n",
       " 'too',\n",
       " 'very',\n",
       " 's',\n",
       " 't',\n",
       " 'can',\n",
       " 'will',\n",
       " 'just',\n",
       " 'don',\n",
       " \"don't\",\n",
       " 'should',\n",
       " \"should've\",\n",
       " 'now',\n",
       " 'd',\n",
       " 'll',\n",
       " 'm',\n",
       " 'o',\n",
       " 're',\n",
       " 've',\n",
       " 'y',\n",
       " 'ain',\n",
       " 'aren',\n",
       " \"aren't\",\n",
       " 'couldn',\n",
       " \"couldn't\",\n",
       " 'didn',\n",
       " \"didn't\",\n",
       " 'doesn',\n",
       " \"doesn't\",\n",
       " 'hadn',\n",
       " \"hadn't\",\n",
       " 'hasn',\n",
       " \"hasn't\",\n",
       " 'haven',\n",
       " \"haven't\",\n",
       " 'isn',\n",
       " \"isn't\",\n",
       " 'ma',\n",
       " 'mightn',\n",
       " \"mightn't\",\n",
       " 'mustn',\n",
       " \"mustn't\",\n",
       " 'needn',\n",
       " \"needn't\",\n",
       " 'shan',\n",
       " \"shan't\",\n",
       " 'shouldn',\n",
       " \"shouldn't\",\n",
       " 'wasn',\n",
       " \"wasn't\",\n",
       " 'weren',\n",
       " \"weren't\",\n",
       " 'won',\n",
       " \"won't\",\n",
       " 'wouldn',\n",
       " \"wouldn't\"]"
      ]
     },
     "execution_count": 25,
     "metadata": {},
     "output_type": "execute_result"
    }
   ],
   "source": [
    "stopwords = nltk.corpus.stopwords.words('english')\n",
    "stopwords"
   ]
  },
  {
   "cell_type": "code",
   "execution_count": 27,
   "id": "c49faac3-e1df-4884-9cc5-040faf4ad4f1",
   "metadata": {},
   "outputs": [],
   "source": [
    "def remove_stopwords(text):\n",
    "    output = [i for i in text if i not in stopwords]\n",
    "    return output"
   ]
  },
  {
   "cell_type": "code",
   "execution_count": 29,
   "id": "fd26cfee-39e0-49fc-89b1-21ada25a444d",
   "metadata": {},
   "outputs": [
    {
     "data": {
      "text/plain": [
       "8171     [complaints, located, hotel, wife, pleased, qu...\n",
       "16391    [okay, decor, nice, new, desk, staff, uppity, ...\n",
       "2812     [wished, stayed, longer, best, trip, water, gr...\n",
       "2336     [loved, new, orleans, number, times, recently,...\n",
       "3353     [depends, looking, went, pr, labor, day, weeke...\n",
       "                               ...                        \n",
       "7547     [awesome, resort, terrible, spa, took, entire,...\n",
       "16785    [garden, eden, resort, best, stayed, husband, ...\n",
       "17629    [absolutely, fantastic, hotel, returned, 4, ni...\n",
       "5220     [perfect, paris, business, meeting, hotel, bad...\n",
       "7071     [loved, came, june, 21, best, secrets, place, ...\n",
       "Name: Review, Length: 2049, dtype: object"
      ]
     },
     "execution_count": 29,
     "metadata": {},
     "output_type": "execute_result"
    }
   ],
   "source": [
    "clean_data = tokens.apply(lambda x: remove_stopwords (x))\n",
    "clean_data"
   ]
  },
  {
   "cell_type": "code",
   "execution_count": 30,
   "id": "b43936cb-2c0f-44b9-8c4e-c6a5ece87c0f",
   "metadata": {},
   "outputs": [],
   "source": [
    "wordnet_lemmatizer = WordNetLemmatizer()\n",
    "lemmatizer = WordNetLemmatizer()\n",
    "\n",
    "#defining the object for Lemmatization"
   ]
  },
  {
   "cell_type": "code",
   "execution_count": 31,
   "id": "eb8cc807-a8ce-4e5c-864a-805f1e524249",
   "metadata": {},
   "outputs": [],
   "source": [
    "def lemmatize_words(text):\n",
    "    lemmatized_output = [lemmatizer.lemmatize(word) for word in text]\n",
    "    return lemmatized_output"
   ]
  },
  {
   "cell_type": "code",
   "execution_count": 33,
   "id": "844775aa-4a86-40c1-8e4e-0a9f3fbea093",
   "metadata": {},
   "outputs": [
    {
     "data": {
      "text/plain": [
       "8171     [complaint, located, hotel, wife, pleased, qua...\n",
       "16391    [okay, decor, nice, new, desk, staff, uppity, ...\n",
       "2812     [wished, stayed, longer, best, trip, water, gr...\n",
       "2336     [loved, new, orleans, number, time, recently, ...\n",
       "3353     [depends, looking, went, pr, labor, day, weeke...\n",
       "Name: Review, dtype: object"
      ]
     },
     "execution_count": 33,
     "metadata": {},
     "output_type": "execute_result"
    }
   ],
   "source": [
    "X_lemmatized = clean_data.apply(lambda x: lemmatize_words(x))\n",
    "X_lemmatized.head()"
   ]
  },
  {
   "cell_type": "code",
   "execution_count": 35,
   "id": "778f9009-7098-4d59-b103-718db59870b2",
   "metadata": {},
   "outputs": [
    {
     "data": {
      "text/plain": [
       "8171     complaint located hotel wife pleased quality s...\n",
       "16391    okay decor nice new desk staff uppity professi...\n",
       "2812     wished stayed longer best trip water great san...\n",
       "2336     loved new orleans number time recently stayed ...\n",
       "3353     depends looking went pr labor day weekend cele...\n",
       "                               ...                        \n",
       "7547     awesome resort terrible spa took entire family...\n",
       "16785    garden eden resort best stayed husband stayed ...\n",
       "17629    absolutely fantastic hotel returned 4 night ba...\n",
       "5220     perfect paris business meeting hotel bad leave...\n",
       "7071     loved came june 21 best secret place staythe i...\n",
       "Name: Review, Length: 2049, dtype: object"
      ]
     },
     "execution_count": 35,
     "metadata": {},
     "output_type": "execute_result"
    }
   ],
   "source": [
    "final_df = X_lemmatized.map(' '.join)\n",
    "final_df"
   ]
  },
  {
   "cell_type": "markdown",
   "id": "d9d77645-b4a5-4efa-a6e1-f18eeb3565e0",
   "metadata": {},
   "source": [
    "# Model, Testing and Evaluation"
   ]
  },
  {
   "cell_type": "code",
   "execution_count": 40,
   "id": "0274d7f7-2b87-49a0-8ac8-f5cb51d73eaa",
   "metadata": {},
   "outputs": [],
   "source": [
    "vectorizer = CountVectorizer()"
   ]
  },
  {
   "cell_type": "code",
   "execution_count": 41,
   "id": "d90be1ed-b7c6-4788-82a1-b79278e51d1b",
   "metadata": {},
   "outputs": [],
   "source": [
    "train_vector = vectorizer.fit_transform(final_df)"
   ]
  },
  {
   "cell_type": "code",
   "execution_count": 42,
   "id": "4f666ad0-5291-4c92-898b-987e7850236c",
   "metadata": {},
   "outputs": [],
   "source": [
    "X_train, X_test, y_train, y_test = train_test_split(train_vector, Y, test_size=0.5, random_state=24)"
   ]
  },
  {
   "cell_type": "code",
   "execution_count": 58,
   "id": "31107039-8d68-4d57-930e-dcc768fbf0d0",
   "metadata": {},
   "outputs": [],
   "source": [
    "smote = SMOTE(random_state=42)\n",
    "\n",
    "#The data is not balanced as dipicted in the graph at the top"
   ]
  },
  {
   "cell_type": "code",
   "execution_count": 46,
   "id": "8771dde7-0beb-42c7-88f1-a6108bb6e92a",
   "metadata": {},
   "outputs": [],
   "source": [
    "lr = LogisticRegression()"
   ]
  },
  {
   "cell_type": "code",
   "execution_count": 47,
   "id": "b5cd0d6d-f520-4148-b69b-7b9da261d926",
   "metadata": {},
   "outputs": [],
   "source": [
    "pipeline = Pipeline([\n",
    "    ('smote', smote),\n",
    "    ('LogisticRegression', lr)\n",
    "])"
   ]
  },
  {
   "cell_type": "code",
   "execution_count": 59,
   "id": "4c254ba3-cb50-4571-8123-70a1eae95d77",
   "metadata": {},
   "outputs": [
    {
     "data": {
      "text/html": [
       "<style>#sk-container-id-2 {color: black;background-color: white;}#sk-container-id-2 pre{padding: 0;}#sk-container-id-2 div.sk-toggleable {background-color: white;}#sk-container-id-2 label.sk-toggleable__label {cursor: pointer;display: block;width: 100%;margin-bottom: 0;padding: 0.3em;box-sizing: border-box;text-align: center;}#sk-container-id-2 label.sk-toggleable__label-arrow:before {content: \"▸\";float: left;margin-right: 0.25em;color: #696969;}#sk-container-id-2 label.sk-toggleable__label-arrow:hover:before {color: black;}#sk-container-id-2 div.sk-estimator:hover label.sk-toggleable__label-arrow:before {color: black;}#sk-container-id-2 div.sk-toggleable__content {max-height: 0;max-width: 0;overflow: hidden;text-align: left;background-color: #f0f8ff;}#sk-container-id-2 div.sk-toggleable__content pre {margin: 0.2em;color: black;border-radius: 0.25em;background-color: #f0f8ff;}#sk-container-id-2 input.sk-toggleable__control:checked~div.sk-toggleable__content {max-height: 200px;max-width: 100%;overflow: auto;}#sk-container-id-2 input.sk-toggleable__control:checked~label.sk-toggleable__label-arrow:before {content: \"▾\";}#sk-container-id-2 div.sk-estimator input.sk-toggleable__control:checked~label.sk-toggleable__label {background-color: #d4ebff;}#sk-container-id-2 div.sk-label input.sk-toggleable__control:checked~label.sk-toggleable__label {background-color: #d4ebff;}#sk-container-id-2 input.sk-hidden--visually {border: 0;clip: rect(1px 1px 1px 1px);clip: rect(1px, 1px, 1px, 1px);height: 1px;margin: -1px;overflow: hidden;padding: 0;position: absolute;width: 1px;}#sk-container-id-2 div.sk-estimator {font-family: monospace;background-color: #f0f8ff;border: 1px dotted black;border-radius: 0.25em;box-sizing: border-box;margin-bottom: 0.5em;}#sk-container-id-2 div.sk-estimator:hover {background-color: #d4ebff;}#sk-container-id-2 div.sk-parallel-item::after {content: \"\";width: 100%;border-bottom: 1px solid gray;flex-grow: 1;}#sk-container-id-2 div.sk-label:hover label.sk-toggleable__label {background-color: #d4ebff;}#sk-container-id-2 div.sk-serial::before {content: \"\";position: absolute;border-left: 1px solid gray;box-sizing: border-box;top: 0;bottom: 0;left: 50%;z-index: 0;}#sk-container-id-2 div.sk-serial {display: flex;flex-direction: column;align-items: center;background-color: white;padding-right: 0.2em;padding-left: 0.2em;position: relative;}#sk-container-id-2 div.sk-item {position: relative;z-index: 1;}#sk-container-id-2 div.sk-parallel {display: flex;align-items: stretch;justify-content: center;background-color: white;position: relative;}#sk-container-id-2 div.sk-item::before, #sk-container-id-2 div.sk-parallel-item::before {content: \"\";position: absolute;border-left: 1px solid gray;box-sizing: border-box;top: 0;bottom: 0;left: 50%;z-index: -1;}#sk-container-id-2 div.sk-parallel-item {display: flex;flex-direction: column;z-index: 1;position: relative;background-color: white;}#sk-container-id-2 div.sk-parallel-item:first-child::after {align-self: flex-end;width: 50%;}#sk-container-id-2 div.sk-parallel-item:last-child::after {align-self: flex-start;width: 50%;}#sk-container-id-2 div.sk-parallel-item:only-child::after {width: 0;}#sk-container-id-2 div.sk-dashed-wrapped {border: 1px dashed gray;margin: 0 0.4em 0.5em 0.4em;box-sizing: border-box;padding-bottom: 0.4em;background-color: white;}#sk-container-id-2 div.sk-label label {font-family: monospace;font-weight: bold;display: inline-block;line-height: 1.2em;}#sk-container-id-2 div.sk-label-container {text-align: center;}#sk-container-id-2 div.sk-container {/* jupyter's `normalize.less` sets `[hidden] { display: none; }` but bootstrap.min.css set `[hidden] { display: none !important; }` so we also need the `!important` here to be able to override the default hidden behavior on the sphinx rendered scikit-learn.org. See: https://github.com/scikit-learn/scikit-learn/issues/21755 */display: inline-block !important;position: relative;}#sk-container-id-2 div.sk-text-repr-fallback {display: none;}</style><div id=\"sk-container-id-2\" class=\"sk-top-container\"><div class=\"sk-text-repr-fallback\"><pre>Pipeline(steps=[(&#x27;smote&#x27;, SMOTE(random_state=42)),\n",
       "                (&#x27;LogisticRegression&#x27;, LogisticRegression())])</pre><b>In a Jupyter environment, please rerun this cell to show the HTML representation or trust the notebook. <br />On GitHub, the HTML representation is unable to render, please try loading this page with nbviewer.org.</b></div><div class=\"sk-container\" hidden><div class=\"sk-item sk-dashed-wrapped\"><div class=\"sk-label-container\"><div class=\"sk-label sk-toggleable\"><input class=\"sk-toggleable__control sk-hidden--visually\" id=\"sk-estimator-id-4\" type=\"checkbox\" ><label for=\"sk-estimator-id-4\" class=\"sk-toggleable__label sk-toggleable__label-arrow\">Pipeline</label><div class=\"sk-toggleable__content\"><pre>Pipeline(steps=[(&#x27;smote&#x27;, SMOTE(random_state=42)),\n",
       "                (&#x27;LogisticRegression&#x27;, LogisticRegression())])</pre></div></div></div><div class=\"sk-serial\"><div class=\"sk-item\"><div class=\"sk-estimator sk-toggleable\"><input class=\"sk-toggleable__control sk-hidden--visually\" id=\"sk-estimator-id-5\" type=\"checkbox\" ><label for=\"sk-estimator-id-5\" class=\"sk-toggleable__label sk-toggleable__label-arrow\">SMOTE</label><div class=\"sk-toggleable__content\"><pre>SMOTE(random_state=42)</pre></div></div></div><div class=\"sk-item\"><div class=\"sk-estimator sk-toggleable\"><input class=\"sk-toggleable__control sk-hidden--visually\" id=\"sk-estimator-id-6\" type=\"checkbox\" ><label for=\"sk-estimator-id-6\" class=\"sk-toggleable__label sk-toggleable__label-arrow\">LogisticRegression</label><div class=\"sk-toggleable__content\"><pre>LogisticRegression()</pre></div></div></div></div></div></div></div>"
      ],
      "text/plain": [
       "Pipeline(steps=[('smote', SMOTE(random_state=42)),\n",
       "                ('LogisticRegression', LogisticRegression())])"
      ]
     },
     "execution_count": 59,
     "metadata": {},
     "output_type": "execute_result"
    }
   ],
   "source": [
    "pipeline.fit(X_train,y_train)\n",
    "\n",
    "#Creating a pipeline"
   ]
  },
  {
   "cell_type": "code",
   "execution_count": 50,
   "id": "b5eceb85-bb89-4e32-808b-692032876855",
   "metadata": {},
   "outputs": [],
   "source": [
    "y_pred =pipeline.predict(X_test)\n",
    "\n",
    "#Predict the class labels for the test data using logistic regression\n"
   ]
  },
  {
   "cell_type": "code",
   "execution_count": 53,
   "id": "5d80938c-536c-4b7d-9649-ecc3b1c195ac",
   "metadata": {},
   "outputs": [],
   "source": [
    "accuracy = accuracy_score(y_test,y_pred)\n",
    "\n",
    "#Calculates the accuracy of the predicted labels compared to the true labels"
   ]
  },
  {
   "cell_type": "code",
   "execution_count": 54,
   "id": "03cb1939-550a-411c-add1-fc30e728bff5",
   "metadata": {},
   "outputs": [],
   "source": [
    "precision = precision_score(y_test,y_pred)\n",
    "\n",
    "#Calculates the recal of the predicted labels compared to the true labels"
   ]
  },
  {
   "cell_type": "code",
   "execution_count": 56,
   "id": "9c11dadc-2054-464e-bffc-4ff59a54ddb6",
   "metadata": {},
   "outputs": [],
   "source": [
    "recall = recall_score(y_test,y_pred)\n",
    "f1 = f1_score(y_test,y_pred)"
   ]
  },
  {
   "cell_type": "code",
   "execution_count": 57,
   "id": "b135d099-5b36-4880-b0f2-443e26092086",
   "metadata": {},
   "outputs": [
    {
     "name": "stdout",
     "output_type": "stream",
     "text": [
      "              precision    recall  f1-score   support\n",
      "\n",
      "           0       0.60      0.66      0.63       164\n",
      "           1       0.93      0.91      0.92       861\n",
      "\n",
      "    accuracy                           0.87      1025\n",
      "   macro avg       0.77      0.79      0.78      1025\n",
      "weighted avg       0.88      0.87      0.88      1025\n",
      "\n"
     ]
    }
   ],
   "source": [
    "report = classification_report(y_test, y_pred)\n",
    "print(report)"
   ]
  },
  {
   "cell_type": "code",
   "execution_count": null,
   "id": "b7f222ba-d72e-4eb0-8039-35cfc70203b8",
   "metadata": {},
   "outputs": [],
   "source": []
  },
  {
   "cell_type": "code",
   "execution_count": null,
   "id": "690fb858-41a8-49d2-ac63-a384a0971937",
   "metadata": {},
   "outputs": [],
   "source": []
  }
 ],
 "metadata": {
  "kernelspec": {
   "display_name": "Python 3 (ipykernel)",
   "language": "python",
   "name": "python3"
  },
  "language_info": {
   "codemirror_mode": {
    "name": "ipython",
    "version": 3
   },
   "file_extension": ".py",
   "mimetype": "text/x-python",
   "name": "python",
   "nbconvert_exporter": "python",
   "pygments_lexer": "ipython3",
   "version": "3.11.7"
  }
 },
 "nbformat": 4,
 "nbformat_minor": 5
}
